import pandas as pd
df=pd.read_sv("student_records.csv")
df
